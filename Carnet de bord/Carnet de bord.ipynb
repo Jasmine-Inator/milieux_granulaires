{
 "cells": [
  {
   "cell_type": "markdown",
   "id": "13e9ca9b-18c7-4936-adf8-d3fb86c114be",
   "metadata": {},
   "source": [
    "# Carnet de Bord :"
   ]
  },
  {
   "cell_type": "markdown",
   "id": "06490736-3185-4bb4-88c3-334fd670f5ee",
   "metadata": {},
   "source": [
    "### Mercrdi 5 Février 2025 :\n",
    "    \n",
    "Après le choix du sujet lors de la séance précédente, Mickaël commence a travaillé sur le projet créant ainsi 3 fonctions :\n",
    "    \n",
    "- **image_imports** pour importer les images en entrant le chemin **path** pour trouver l'image et en l'ajoutant ensuite dans la liste **img_list**\n",
    "- **white_check** pour détecter les pixels au dessus d'une certaine luminosité et ajouter chacune des coordonnées dans une liste\n",
    "- **scatter** pour visualiser les résultats sous forme de graphique afin de comparer à l'image d'origine "
   ]
  },
  {
   "cell_type": "markdown",
   "id": "22e96529-869b-4f71-9c93-bc565289f838",
   "metadata": {},
   "source": [
    "### Vendredi 14 Février 2025 :\n",
    "   * Première séance de TP sur le projet Gaz Granulaires, mis au point sur l'idée et la façon de faire fonctionner le programme. "
   ]
  },
  {
   "cell_type": "markdown",
   "id": "7eb8d541-f4a7-4a2c-b808-f0aa32a8bff2",
   "metadata": {},
   "source": [
    "### Vacances d'Hiver :\n",
    "Création de classes personnalisées :\n",
    "- **indexlist** pour lier chaque coordonnées à un index et ainsi le réutiliser dans la classe **cluster**\n",
    "- **cluster** pour définir autour de chaque centre tous les pixels constituants l'image d'une pastille\n",
    "\n",
    "Création des fonctions suivantes :\n",
    "- **flatten** pour mettre les np.array en une seule dimension\n",
    "- **structure_create** pour pouvoir créer les structures des pastilles de façons binaires, avec les pixels appartenant à des pastilles par des 1\n",
    "- **image_compare_dist** pour calculer la distances parcourue d'une image à l'autre du centre de la même pastille\n",
    "- **image_compare_vect** pour calculer les vecteurs position des centres des pastilles\n",
    "- **image_compare** qui réunit les deux fonctions précédentes en créant ainsi une table de distances et une table de vecteurs\n",
    "- **cluster_overlap** qui détecte les clusters se superposant les uns aux autres "
   ]
  },
  {
   "cell_type": "markdown",
   "id": "b517955b-8a33-4da0-b711-f82956cc464a",
   "metadata": {},
   "source": [
    "### Vendredi 28 Février 2025 :\n",
    "- Suppression des fonctions servant à détecter la superposition de cluster qui supprimait tous les clusters car considéraient chaque point créant son propre cluster indépendant et voyait donc une pastille comme un ensemble de clusters se superposant et donc la supprimait."
   ]
  },
  {
   "cell_type": "markdown",
   "id": "95c7a2c9-7abc-4fb7-b57b-fbbf166dc03a",
   "metadata": {},
   "source": [
    "### Vendredi 07 Mars 2025 :\n",
    "- Changement de méthode pour la détection des clusters et donc supressions ou modifications de plusieurs fonctions car lors de collision de pastilles le programme considérait l'ensemble des deux pastilles se touchant comme un seul et même cluster. En installant tensorflow, on pourrat détecter directement chaque pastille de chaque image en apprenant à une IA à reconnaitre les pastilles.\n",
    "- Lecture de la documentation sur la façon de procéder et d'installer les programmes nécessaires."
   ]
  },
  {
   "cell_type": "markdown",
   "id": "538a3d5e-c654-4fd7-b179-60b207fccaef",
   "metadata": {},
   "source": [
    "### Vendredi 14 Mars 2025 :\n",
    "- Pour pouvoir entrainer l'IA de tensorflow, on créé des boites autour de chaque pastille de chaque image pour qu'il puisse par la suite reconnaitre chaque pastille sur l'ensemble des images, nous venons déja préparer les 40 premières images avec les pastilles encadrer à l'aide de **labelImg**.\n",
    "- Problème avec tensorflow nécessitant des versions de pythons moins récentes pour labelImg, résolu avec l'installation de Python 3.9."
   ]
  },
  {
   "cell_type": "markdown",
   "id": "6bd9330a-a7f6-4029-b8ca-a6d72ea2d1a9",
   "metadata": {},
   "source": [
    "### Vendredi 21 Mars 2025 :"
   ]
  },
  {
   "cell_type": "code",
   "execution_count": null,
   "id": "9a23ac64-ef3a-44d6-ae85-32752311dcca",
   "metadata": {},
   "outputs": [],
   "source": []
  }
 ],
 "metadata": {
  "kernelspec": {
   "display_name": "Python 3 (ipykernel)",
   "language": "python",
   "name": "python3"
  },
  "language_info": {
   "codemirror_mode": {
    "name": "ipython",
    "version": 3
   },
   "file_extension": ".py",
   "mimetype": "text/x-python",
   "name": "python",
   "nbconvert_exporter": "python",
   "pygments_lexer": "ipython3",
   "version": "3.12.8"
  }
 },
 "nbformat": 4,
 "nbformat_minor": 5
}
