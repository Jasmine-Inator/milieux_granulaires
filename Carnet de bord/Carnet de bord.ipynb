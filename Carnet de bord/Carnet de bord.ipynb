{
  "metadata": {
    "kernelspec": {
      "name": "python",
      "display_name": "Python (Pyodide)",
      "language": "python"
    },
    "language_info": {
      "codemirror_mode": {
        "name": "python",
        "version": 3
      },
      "file_extension": ".py",
      "mimetype": "text/x-python",
      "name": "python",
      "nbconvert_exporter": "python",
      "pygments_lexer": "ipython3",
      "version": "3.8"
    }
  },
  "nbformat_minor": 5,
  "nbformat": 4,
  "cells": [
    {
      "id": "13e9ca9b-18c7-4936-adf8-d3fb86c114be",
      "cell_type": "markdown",
      "source": "# Carnet de Bord :",
      "metadata": {}
    },
    {
      "id": "8fcc6f0b-34e5-4179-b553-1a2014147cbf",
      "cell_type": "markdown",
      "source": "",
      "metadata": {}
    },
    {
      "id": "06490736-3185-4bb4-88c3-334fd670f5ee",
      "cell_type": "markdown",
      "source": "### Mercrdi 5 Février 2025 :\n    \nAprès le choix du sujet lors de la séance précédente, Mickaël commence a travaillé sur le projet créant ainsi 3 fonctions :\n    \n- **image_imports** pour importer les images en entrant le chemin **path** pour trouver l'image et en l'ajoutant ensuite dans la liste **img_list**\n- **white_check** pour détecter les pixels au dessus d'une certaine luminosité et ajouter chacune des coordonnées dans une liste\n- **scatter** pour visualiser les résultats sous forme de graphique afin de comparer à l'image d'origine ",
      "metadata": {
        "jp-MarkdownHeadingCollapsed": true
      }
    },
    {
      "id": "22e96529-869b-4f71-9c93-bc565289f838",
      "cell_type": "markdown",
      "source": "### Vendredi 14 Février 2025 :\n   * Première séance de TP sur le projet Gaz Granulaires, mis au point sur l'idée et la façon de faire fonctionner le programme. ",
      "metadata": {}
    },
    {
      "id": "7eb8d541-f4a7-4a2c-b808-f0aa32a8bff2",
      "cell_type": "markdown",
      "source": "### Vacances d'Hiver :\nCréation de classes personnalisées :\n- **indexlist** pour lier chaque coordonnées à un index et ainsi le réutiliser dans la classe **cluster**\n- **cluster** pour définir autour de chaque centre tous les pixels constituants l'image d'une pastille\n\nCréation des fonctions suivantes :\n- **flatten** pour mettre les np.array en une seule dimension\n- **structure_create** pour pouvoir créer les structures des pastilles de façons binaires, avec les pixels appartenant à des pastilles par des 1\n- **image_compare_dist** pour calculer la distances parcourue d'une image à l'autre du centre de la même pastille\n- **image_compare_vect** pour calculer les vecteurs position des centres des pastilles\n- **image_compare** qui réunit les deux fonctions précédentes en créant ainsi une table de distances et une table de vecteurs\n- **cluster_overlap** qui détecte les clusters se superposant les uns aux autres ",
      "metadata": {}
    },
    {
      "id": "b517955b-8a33-4da0-b711-f82956cc464a",
      "cell_type": "markdown",
      "source": "### Vendredi 28 Février 2025 :\n- Suppression des fonctions servant à détecter la superposition de cluster qui supprimait tous les clusters car considéraient chaque point créant son propre cluster indépendant et voyait donc une pastille comme un ensemble de clusters se superposant et donc la supprimait.",
      "metadata": {}
    },
    {
      "id": "95c7a2c9-7abc-4fb7-b57b-fbbf166dc03a",
      "cell_type": "markdown",
      "source": "### Vendredi 07 Mars 2025 :\n- Changement de méthode pour la détection des clusters et donc supressions ou modifications de plusieurs fonctions car lors de collision de pastilles le programme considérait l'ensemble des deux pastilles se touchant comme un seul et même cluster. En installant tensorflow, on pourrat détecter directement chaque pastille de chaque image en apprenant à une IA à reconnaitre les pastilles.\n- Lecture de la documentation sur la façon de procéder et d'installer les programmes nécessaires.",
      "metadata": {}
    },
    {
      "id": "538a3d5e-c654-4fd7-b179-60b207fccaef",
      "cell_type": "markdown",
      "source": "### Vendredi 14 Mars 2025 :\n- Pour pouvoir entrainer l'IA de tensorflow, on créé des boites autour de chaque pastille de chaque image pour qu'il puisse par la suite reconnaitre chaque pastille sur l'ensemble des images, nous avons déja préparer les 40 premières images avec les pastilles encadrer à l'aide de **labelImg**.\n- Problème avec tensorflow nécessitant des versions de pythons moins récentes pour labelImg, résolu avec l'installation de Python 3.9.\n- Création de la fonction qui permet de transformer les images en une vidéo.",
      "metadata": {}
    },
    {
      "id": "6bd9330a-a7f6-4029-b8ca-a6d72ea2d1a9",
      "cell_type": "markdown",
      "source": "### Vendredi 21 Mars 2025 :",
      "metadata": {}
    },
    {
      "id": "091afdec-a82a-432e-a258-2ebe2d6ca9d4",
      "cell_type": "markdown",
      "source": "- Création de la fonction qui permet de calculer la vitesse et l'énergie cinétique des particules.",
      "metadata": {}
    },
    {
      "id": "a712a2a1-c4fa-4809-a375-7e8493a5eb00",
      "cell_type": "code",
      "source": "",
      "metadata": {
        "trusted": true
      },
      "outputs": [],
      "execution_count": null
    }
  ]
}